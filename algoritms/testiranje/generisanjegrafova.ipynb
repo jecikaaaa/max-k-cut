{
 "cells": [
  {
   "cell_type": "code",
   "execution_count": 1,
   "id": "a4791a54",
   "metadata": {},
   "outputs": [],
   "source": [
    "import networkx as nx\n",
    "import random\n",
    "\n",
    "def generate_graph(n, p=0.2):\n",
    "    random.seed(n)\n",
    "    G = nx.gnp_random_graph(n, p, seed=n)\n",
    "    for u, v in sorted(G.edges()):\n",
    "        G[u][v]['weight'] = random.randint(1, 10)\n",
    "    return G\n",
    "\n",
    "sizes = [4, 7, 30, 50, 100,200,250,350,450,550,1000,3000,5000]\n",
    "\n",
    "for n in sizes:\n",
    "    G = generate_graph(n)\n",
    "    filename = f\"graph_{n}.edgelist\"\n",
    "    nx.write_weighted_edgelist(G, filename)"
   ]
  },
  {
   "cell_type": "code",
   "execution_count": null,
   "id": "c65f1c5d",
   "metadata": {},
   "outputs": [],
   "source": []
  }
 ],
 "metadata": {
  "kernelspec": {
   "display_name": "Python 3 (ipykernel)",
   "language": "python",
   "name": "python3"
  },
  "language_info": {
   "codemirror_mode": {
    "name": "ipython",
    "version": 3
   },
   "file_extension": ".py",
   "mimetype": "text/x-python",
   "name": "python",
   "nbconvert_exporter": "python",
   "pygments_lexer": "ipython3",
   "version": "3.12.3"
  }
 },
 "nbformat": 4,
 "nbformat_minor": 5
}
