{
 "cells": [
  {
   "cell_type": "code",
   "execution_count": 1,
   "id": "a0278ff2",
   "metadata": {},
   "outputs": [],
   "source": [
    "import networkx as nx\n",
    "from itertools import product\n",
    "import time\n",
    "import matplotlib.pyplot as plt"
   ]
  },
  {
   "cell_type": "code",
   "execution_count": 2,
   "id": "05f9fb66",
   "metadata": {},
   "outputs": [],
   "source": [
    "def read_graph_from_file(file_path):\n",
    "    graph = nx.Graph()\n",
    "    with open(file_path, 'r') as file:\n",
    "        for line in file:\n",
    "            parts = line.split()\n",
    "            if parts and parts[0] == 'e':\n",
    "                u, v = int(parts[1]), int(parts[2])\n",
    "                w = int(parts[3]) if len(parts) > 3 else 1\n",
    "                graph.add_edge(u, v, weight=w)\n",
    "    return graph\n"
   ]
  },
  {
   "cell_type": "code",
   "execution_count": 3,
   "id": "c8cfd54b",
   "metadata": {},
   "outputs": [],
   "source": [
    "def cut_value(graph, labels):\n",
    "    total = 0\n",
    "    for u, v, data in graph.edges(data=True):\n",
    "        if labels[u] != labels[v]:\n",
    "            total += data.get(\"weight\", 1)\n",
    "    return total\n"
   ]
  },
  {
   "cell_type": "code",
   "execution_count": 4,
   "id": "133af850",
   "metadata": {},
   "outputs": [],
   "source": [
    "def brute_force_max_k_cut(graph, k, start_time, timeout=300):\n",
    "    nodes = list(graph.nodes())\n",
    "    n = len(nodes)\n",
    "    iters = 0\n",
    "    best_val = -1\n",
    "    best_labels = None\n",
    "\n",
    "    for assign in product(range(k), repeat=n):\n",
    "        iters += 1\n",
    "        if time.time() - start_time >= timeout:\n",
    "            break\n",
    "        labels = {nodes[i]: assign[i] for i in range(n)}\n",
    "        val = cut_value(graph, labels)\n",
    "        if val > best_val:\n",
    "            best_val = val\n",
    "            best_labels = labels\n",
    "    return best_val, best_labels, iters"
   ]
  },
  {
   "cell_type": "code",
   "execution_count": 5,
   "id": "ef320a03",
   "metadata": {},
   "outputs": [],
   "source": [
    "def format_time(seconds):\n",
    "    return \"{:.10f}\".format(seconds)"
   ]
  },
  {
   "cell_type": "code",
   "execution_count": 6,
   "id": "2d0fbc4b",
   "metadata": {},
   "outputs": [],
   "source": [
    "def appendToFile(filename, k, best_val, elapsed_time):\n",
    "    podaci.append(filename + \".txt\")\n",
    "    podaci.append(\"k: \" + str(k))\n",
    "    podaci.append(\"Best cut value: \" + str(best_val))\n",
    "    podaci.append(\"Vreme: \" + format_time(elapsed_time) + \" sekundi\")\n",
    "\n",
    "    with open(\"../Rezultati/brute_force_maxkcut.txt\", \"a\") as fajl:\n",
    "        for podatak in podaci:\n",
    "            fajl.write(f\"{podatak}\\n\")\n",
    "\n",
    "    podaci.clear()"
   ]
  },
  {
   "cell_type": "code",
   "execution_count": 26,
   "id": "553fa6c0",
   "metadata": {},
   "outputs": [],
   "source": [
    "def plot_graph(graph, colors):\n",
    "   \n",
    "    G = nx.Graph(graph)\n",
    "    node_colors = []\n",
    "    for node in G.nodes():\n",
    "        try:\n",
    "            node_colors.append(colors[node])\n",
    "        except KeyError:\n",
    "            print(\"Čvor\", node, \"nema dodeljenu grupu.\")\n",
    "            node_colors.append('gray')  # nedodeljeni čvorovi sivi\n",
    "\n",
    "    nx.draw(G, with_labels=True,\n",
    "            node_color=node_colors,\n",
    "            cmap=plt.cm.rainbow,\n",
    "            node_size=500)\n",
    "    \n",
    "    plt.show()"
   ]
  },
  {
   "cell_type": "code",
   "execution_count": 27,
   "id": "90f1caff",
   "metadata": {},
   "outputs": [],
   "source": [
    "podaci=[] \n",
    "graph1 = {\n",
    "        'A': ['B','C','D'],\n",
    "        'B': ['A','C'],\n",
    "        'C': ['A','B','D'],\n",
    "        'D': ['A','C','E'],\n",
    "        'E': ['D','F'],\n",
    "        'F': ['E','G'],\n",
    "        'G': ['F']\n",
    "    }\n",
    "G1 = nx.Graph(graph1)\n",
    "for u, v in G1.edges():\n",
    "    G1.edges[u, v]['weight'] = 1\n"
   ]
  },
  {
   "cell_type": "code",
   "execution_count": 28,
   "id": "2a85f075",
   "metadata": {},
   "outputs": [
    {
     "name": "stdout",
     "output_type": "stream",
     "text": [
      "=== PRIMER 1 ===\n",
      "Najbolja vrednost preseka: 8\n",
      "Podela čvorova: {'A': 0, 'B': 1, 'C': 2, 'D': 1, 'E': 0, 'F': 1, 'G': 0}\n",
      "Broj iteracija: 2187\n",
      "Vreme: 0.0345919132 sekundi\n"
     ]
    },
    {
     "data": {
      "image/png": "[encoded data removed]",
      "text/plain": [
       "<Figure size 640x480 with 1 Axes>"
      ]
     },
     "metadata": {},
     "output_type": "display_data"
    }
   ],
   "source": [
    " k = 3\n",
    "start_time = time.time()\n",
    "best_val,labels,iters = brute_force_max_k_cut(G1, k, start_time)\n",
    "end_time = time.time()\n",
    "\n",
    "print(\"=== PRIMER 1 ===\")\n",
    "if labels == -1:\n",
    "    print(\"Premašeno vreme od 300 sekundi.\")\n",
    "    appendToFile(\"small_1\", k, 0, 300)\n",
    "else:\n",
    "    print(\"Najbolja vrednost preseka:\", best_val)\n",
    "    print(\"Podela čvorova:\", labels)\n",
    "    print(\"Broj iteracija:\", iters)\n",
    "    print(\"Vreme:\", format_time(end_time - start_time), \"sekundi\")\n",
    "    appendToFile(\"small_1\", k, best_val, (end_time - start_time))\n",
    "    plot_graph(G1, labels)\n"
   ]
  },
  {
   "cell_type": "code",
   "execution_count": 29,
   "id": "2978d6e2",
   "metadata": {},
   "outputs": [],
   "source": [
    "G2 = nx.Graph()\n",
    "G2.add_edge('A','B', weight=3)\n",
    "G2.add_edge('A','C', weight=2)\n",
    "G2.add_edge('B','C', weight=5)\n",
    "G2.add_edge('C','D', weight=4)\n",
    "G2.add_edge('B','D', weight=1)\n",
    "\n"
   ]
  },
  {
   "cell_type": "code",
   "execution_count": 30,
   "id": "c1f57d15",
   "metadata": {},
   "outputs": [
    {
     "name": "stdout",
     "output_type": "stream",
     "text": [
      "\n",
      "=== PRIMER 2 ===\n",
      "Najbolja vrednost preseka: 15\n",
      "Podela čvorova: {'A': 0, 'B': 1, 'C': 2, 'D': 0}\n",
      "Broj iteracija: 81\n",
      "Vreme: 0.0014336109 sekundi\n"
     ]
    },
    {
     "data": {
      "image/png": "[encoded data removed]",
      "text/plain": [
       "<Figure size 640x480 with 1 Axes>"
      ]
     },
     "metadata": {},
     "output_type": "display_data"
    }
   ],
   "source": [
    "start_time = time.time()\n",
    "best_val2,labels2,iters2 = brute_force_max_k_cut(G2, k, start_time)\n",
    "end_time = time.time()\n",
    "\n",
    "print(\"\\n=== PRIMER 2 ===\")\n",
    "if labels2 == -1:\n",
    "    print(\"Premašeno vreme od 300 sekundi.\")\n",
    "    appendToFile(\"small_2\", k, 0, 300)\n",
    "else:\n",
    "    print(\"Najbolja vrednost preseka:\", best_val2)\n",
    "    print(\"Podela čvorova:\", labels2)\n",
    "    print(\"Broj iteracija:\", iters2)\n",
    "    print(\"Vreme:\", format_time(end_time - start_time), \"sekundi\")\n",
    "    appendToFile(\"small_2\", k, best_val2, (end_time - start_time))\n",
    "    plot_graph(G2, labels2)\n"
   ]
  },
  {
   "cell_type": "code",
   "execution_count": null,
   "id": "7ba0c025",
   "metadata": {},
   "outputs": [],
   "source": []
  },
  {
   "cell_type": "code",
   "execution_count": null,
   "id": "6b22a99d",
   "metadata": {},
   "outputs": [],
   "source": []
  },
  {
   "cell_type": "code",
   "execution_count": null,
   "id": "091f2a2e",
   "metadata": {},
   "outputs": [],
   "source": []
  }
 ],
 "metadata": {
  "kernelspec": {
   "display_name": "Python 3 (ipykernel)",
   "language": "python",
   "name": "python3"
  },
  "language_info": {
   "codemirror_mode": {
    "name": "ipython",
    "version": 3
   },
   "file_extension": ".py",
   "mimetype": "text/x-python",
   "name": "python",
   "nbconvert_exporter": "python",
   "pygments_lexer": "ipython3",
   "version": "3.12.3"
  }
 },
 "nbformat": 4,
 "nbformat_minor": 5
}
