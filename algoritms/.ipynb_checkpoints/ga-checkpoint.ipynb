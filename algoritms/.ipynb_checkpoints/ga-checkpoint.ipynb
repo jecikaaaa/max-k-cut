{
 "cells": [
  {
   "cell_type": "code",
   "execution_count": 2,
   "id": "ce9089ff",
   "metadata": {},
   "outputs": [],
   "source": [
    "import random\n",
    "import networkx as nx\n",
    "import matplotlib.pyplot as plt\n",
    "import time\n",
    "import random"
   ]
  },
  {
   "cell_type": "code",
   "execution_count": 3,
   "id": "3057aec0",
   "metadata": {},
   "outputs": [],
   "source": [
    "class Individual:\n",
    "    def __init__(self, graph: nx.Graph, k: int, labels=None):\n",
    "        self.graph = graph\n",
    "        self.k = k\n",
    "        self.labels = labels if labels is not None else self.initial_labels()\n",
    "        self.fitness = self.calc_fitness()\n",
    "        \n",
    "    def initial_labels(self):\n",
    "        return {node: random.randrange(self.k) for node in self.graph.nodes()}\n",
    "    \n",
    "    def calc_fitness(self):\n",
    "        total = 0\n",
    "        for u, v, data in self.graph.edges(data=True):\n",
    "            if self.labels[u] != self.labels[v]:\n",
    "                total += data.get(\"weight\", 1)\n",
    "        return total\n"
   ]
  },
  {
   "cell_type": "code",
   "execution_count": 4,
   "id": "456118c6",
   "metadata": {},
   "outputs": [],
   "source": [
    "def crossover(parent1, parent2):\n",
    "    child_labels = {}\n",
    "    for node in parent1.labels:\n",
    "        child_labels[node] = parent1.labels[node] if random.random() < 0.5 else parent2.labels[node]\n",
    "    \n",
    "    child = Individual(parent1.graph, parent1.k,child_labels)  \n",
    "    child.fitness = child.calc_fitness()\n",
    "    \n",
    "    return child"
   ]
  },
  {
   "cell_type": "code",
   "execution_count": 5,
   "id": "5ddf9be7",
   "metadata": {},
   "outputs": [],
   "source": [
    "def mutation(individual, mutation_prob):\n",
    "    if random.random() < mutation_prob:\n",
    "        node = random.choice(list(individual.labels.keys()))\n",
    "        \n",
    "        current_label = individual.labels[node]\n",
    "        labels = list(range(individual.k))\n",
    "        new_label = random.choice(labels)\n",
    "        \n",
    "        if new_label != current_label:\n",
    "            individual.labels[node] = new_label\n",
    "        \n",
    "        \n",
    "        individual.fitness = individual.calc_fitness()\n"
   ]
  },
  {
   "cell_type": "code",
   "execution_count": 6,
   "id": "1747fb95",
   "metadata": {},
   "outputs": [],
   "source": [
    "def ga(graph: nx.Graph, k, population_size, num_generations, tournament_size, elitism_size, mutation_prob):\n",
    "    population = [Individual(graph, k) for _ in range(population_size)]\n",
    "    \n",
    "    for _ in range(num_generations):\n",
    "        population.sort(key=lambda x: x.fitness, reverse=True)\n",
    "        elites = population[:elitism_size]\n",
    "        offspring = []\n",
    "        \n",
    "        for _ in range(population_size - elitism_size):\n",
    "            parent1 = tournament_selection(population, tournament_size)\n",
    "            parent2 = tournament_selection(population, tournament_size)\n",
    "            child = crossover(parent1, parent2)\n",
    "            mutation(child, mutation_prob)\n",
    "            offspring.append(child)\n",
    "        \n",
    "        population = elites + offspring\n",
    "    \n",
    "    best_solution = max(population, key=lambda x: x.fitness)\n",
    "    return best_solution"
   ]
  },
  {
   "cell_type": "code",
   "execution_count": 7,
   "id": "6d8e184c",
   "metadata": {},
   "outputs": [],
   "source": [
    "def tournament_selection(population, tournament_size):\n",
    "    tournament = random.sample(population, tournament_size)\n",
    "    return max(tournament, key=lambda x: x.fitness)\n"
   ]
  },
  {
   "cell_type": "code",
   "execution_count": 8,
   "id": "e4d2ee83",
   "metadata": {},
   "outputs": [],
   "source": [
    "def format_time(seconds):\n",
    "    return \"{:.10f}\".format(seconds)"
   ]
  },
  {
   "cell_type": "code",
   "execution_count": 9,
   "id": "d5e2b9c9",
   "metadata": {},
   "outputs": [],
   "source": [
    "podaci=[]\n",
    "def appendToFileGA(filename, k, best_val, elapsed_time):\n",
    "    podaci.append(filename + \".txt\")\n",
    "    podaci.append(\"k: \" + str(k))\n",
    "    podaci.append(\"Best cut value: \" + str(best_val))\n",
    "    podaci.append(\"Vreme: \" + format_time(elapsed_time) + \" sekundi\")\n",
    "\n",
    "    with open(\"../Rezultati/genetic_algorithm_maxkcut.txt\", \"a\") as fajl:\n",
    "        for podatak in podaci:\n",
    "            fajl.write(f\"{podatak}\\n\")\n",
    "\n",
    "    podaci.clear()\n"
   ]
  },
  {
   "cell_type": "code",
   "execution_count": 10,
   "id": "d44dd930",
   "metadata": {},
   "outputs": [],
   "source": [
    "def plot_graph(graph, colors):\n",
    "   \n",
    "    G = nx.Graph(graph)\n",
    "    node_colors = []\n",
    "    for node in G.nodes():\n",
    "        try:\n",
    "            node_colors.append(colors[node])\n",
    "        except KeyError:\n",
    "            print(\"Čvor\", node, \"nema dodeljenu grupu.\")\n",
    "            node_colors.append('gray')  # nedodeljeni čvorovi sivi\n",
    "\n",
    "    nx.draw(G, with_labels=True,\n",
    "            node_color=node_colors,\n",
    "            cmap=plt.cm.rainbow,\n",
    "            node_size=500)\n",
    "    \n",
    "    plt.show()"
   ]
  },
  {
   "cell_type": "code",
   "execution_count": 11,
   "id": "172f692b",
   "metadata": {},
   "outputs": [
    {
     "name": "stdout",
     "output_type": "stream",
     "text": [
      "=== PRIMER 1 — GA ===\n",
      "Najbolja vrednost preseka (GA): 8\n",
      "Podela čvorova: {'A': 1, 'B': 0, 'C': 2, 'D': 0, 'E': 2, 'F': 1, 'G': 0}\n",
      "Vreme: 0.5365216732 sekundi\n"
     ]
    },
    {
     "data": {
      "image/png": "[encoded data removed]",
      "text/plain": [
       "<Figure size 640x480 with 1 Axes>"
      ]
     },
     "metadata": {},
     "output_type": "display_data"
    }
   ],
   "source": [
    "graph1 = {\n",
    "    'A': ['B','C','D'],\n",
    "    'B': ['A','C'],\n",
    "    'C': ['A','B','D'],\n",
    "    'D': ['A','C','E'],\n",
    "    'E': ['D','F'],\n",
    "    'F': ['E','G'],\n",
    "    'G': ['F']\n",
    "}\n",
    "\n",
    "G1 = nx.Graph(graph1)\n",
    "for u, v in G1.edges():\n",
    "    G1.edges[u, v]['weight'] = 1\n",
    "\n",
    "k = 3\n",
    "population_size = 50\n",
    "num_generations = 200\n",
    "tournament_size = 3\n",
    "elitism_size = 2\n",
    "mutation_prob = 0.1\n",
    "\n",
    "start_time = time.time()\n",
    "best= ga(G1, k, population_size, num_generations,\n",
    "          tournament_size, elitism_size, mutation_prob)\n",
    "end_time = time.time()\n",
    "\n",
    "print(\"=== PRIMER 1 — GA ===\")\n",
    "print(\"Najbolja vrednost preseka (GA):\", best.fitness)\n",
    "print(\"Podela čvorova:\", best.labels)\n",
    "print(\"Vreme:\", format_time(end_time - start_time), \"sekundi\")\n",
    "\n",
    "\n",
    "appendToFileGA(\"small_1\", k, best.fitness, (end_time - start_time))\n",
    "\n",
    "\n",
    "plot_graph(G1, best.labels)\n"
   ]
  },
  {
   "cell_type": "code",
   "execution_count": 12,
   "id": "2f00ebc5",
   "metadata": {},
   "outputs": [
    {
     "name": "stdout",
     "output_type": "stream",
     "text": [
      "=== PRIMER 2 — GA ===\n",
      "Najbolja vrednost preseka (GA): 15\n",
      "Podela čvorova: {'A': 0, 'B': 2, 'C': 1, 'D': 0}\n",
      "Vreme: 0.2021749020 sekundi\n"
     ]
    },
    {
     "data": {
      "image/png": "[encoded data removed]",
      "text/plain": [
       "<Figure size 640x480 with 1 Axes>"
      ]
     },
     "metadata": {},
     "output_type": "display_data"
    }
   ],
   "source": [
    "G2 = nx.Graph()\n",
    "G2.add_edge('A','B', weight=3)\n",
    "G2.add_edge('A','C', weight=2)\n",
    "G2.add_edge('B','C', weight=5)\n",
    "G2.add_edge('C','D', weight=4)\n",
    "G2.add_edge('B','D', weight=1)\n",
    "\n",
    "k = 3  \n",
    "population_size = 50\n",
    "num_generations = 200\n",
    "tournament_size = 3\n",
    "elitism_size = 2\n",
    "mutation_prob = 0.1\n",
    "\n",
    "start_time = time.time()\n",
    "best = ga(G2, k, population_size, num_generations,\n",
    "                 tournament_size, elitism_size, mutation_prob)\n",
    "end_time = time.time()\n",
    "\n",
    "print(\"=== PRIMER 2 — GA ===\")\n",
    "print(\"Najbolja vrednost preseka (GA):\", best.fitness)\n",
    "print(\"Podela čvorova:\", best.labels)\n",
    "print(\"Vreme:\", format_time(end_time - start_time), \"sekundi\")\n",
    "\n",
    "\n",
    "appendToFileGA(\"small_2\", k, best.fitness, (end_time - start_time))\n",
    "\n",
    "\n",
    "plot_graph(G2, best.labels)"
   ]
  },
  {
   "cell_type": "code",
   "execution_count": 15,
   "id": "31d42a37",
   "metadata": {},
   "outputs": [],
   "source": [
    "G3 = nx.gnp_random_graph(30, 0.2, seed=42) \n",
    "for u, v in G3.edges():\n",
    "    G3[u][v]['weight'] = random.randint(1, 10)"
   ]
  },
  {
   "cell_type": "code",
   "execution_count": null,
   "id": "b4832a33",
   "metadata": {},
   "outputs": [],
   "source": []
  }
 ],
 "metadata": {
  "kernelspec": {
   "display_name": "Python 3 (ipykernel)",
   "language": "python",
   "name": "python3"
  },
  "language_info": {
   "codemirror_mode": {
    "name": "ipython",
    "version": 3
   },
   "file_extension": ".py",
   "mimetype": "text/x-python",
   "name": "python",
   "nbconvert_exporter": "python",
   "pygments_lexer": "ipython3",
   "version": "3.12.3"
  }
 },
 "nbformat": 4,
 "nbformat_minor": 5
}
